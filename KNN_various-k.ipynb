{
 "cells": [
  {
   "cell_type": "code",
   "execution_count": 161,
   "metadata": {
    "collapsed": true
   },
   "outputs": [],
   "source": [
    "import numpy as np\n",
    "import tensorflow as tf\n",
    "import input_data"
   ]
  },
  {
   "cell_type": "code",
   "execution_count": 164,
   "metadata": {
    "collapsed": false
   },
   "outputs": [
    {
     "name": "stdout",
     "output_type": "stream",
     "text": [
      "k값을 입력해주세요.50\n",
      "Extracting /tmp/data/train-images-idx3-ubyte.gz\n",
      "Extracting /tmp/data/train-labels-idx1-ubyte.gz\n",
      "Extracting /tmp/data/t10k-images-idx3-ubyte.gz\n",
      "Extracting /tmp/data/t10k-labels-idx1-ubyte.gz\n",
      "[ 0.  0.  0.  0.  0.  0.  0.  1.  0.  0.]\n"
     ]
    }
   ],
   "source": [
    "k_value = input(\"k값을 입력해주세요.\")\n",
    "mnist = input_data.read_data_sets(\"/tmp/data/\", one_hot = True)\n",
    "train_pixels, train_list_values = mnist.train.next_batch(10000)\n",
    "test_pixels, test_list_of_values = mnist.test.next_batch(10)\n",
    "train_pixel_tensor = tf.placeholder\\\n",
    "                    (\"float\", [None, 784])\n",
    "test_pixel_tensor = tf.placeholder\\\n",
    "                    (\"float\", [784])\n",
    "temp = tf.placeholder\\\n",
    "                    (\"float\", [10000])\n",
    "    \n",
    "print test_list_of_values[0]"
   ]
  },
  {
   "cell_type": "code",
   "execution_count": 165,
   "metadata": {
    "collapsed": false
   },
   "outputs": [],
   "source": [
    "#비용함수와 거리 최적화\n",
    "#neg함수는 인자값을 음수로 만들어 차원별(?요소별)로 더한다.\n",
    "distance = tf.reduce_sum(tf.abs(tf.add(train_pixel_tensor, tf.neg(test_pixel_tensor))), reduction_indices = 1)"
   ]
  },
  {
   "cell_type": "code",
   "execution_count": 166,
   "metadata": {
    "collapsed": false
   },
   "outputs": [
    {
     "name": "stdout",
     "output_type": "stream",
     "text": [
      "Test N : 0  Predicted Class: 7 True Class: 7\n",
      "Test N : 1  Predicted Class: 2 True Class: 2\n",
      "Test N : 2  Predicted Class: 1 True Class: 1\n",
      "Test N : 3  Predicted Class: 0 True Class: 0\n",
      "Test N : 4  Predicted Class: 4 True Class: 4\n",
      "Test N : 5  Predicted Class: 1 True Class: 1\n",
      "Test N : 6  Predicted Class: 4 True Class: 4\n",
      "Test N : 7  Predicted Class: 9 True Class: 9\n",
      "Test N : 8  Predicted Class: 5 True Class: 5\n",
      "Test N : 9  Predicted Class: 9 True Class: 9\n",
      "Result =  1.0\n"
     ]
    }
   ],
   "source": [
    "#테스트와 알고리즘 평가\n",
    "accuracy = 0. #최종결과계산\n",
    "init = tf.global_variables_initializer()\n",
    "with tf.Session() as sess:\n",
    "    sess.run(init)\n",
    "    for i in range(len(test_list_of_values)): #10개의 테스트 값\n",
    "        distances = sess.run(distance,feed_dict={train_pixel_tensor:train_pixels, test_pixel_tensor:test_pixels[i]})\n",
    "        temp = list(distances)\n",
    "        temp.sort()\n",
    "        predicted = list()\n",
    "        for j in range(k_value):\n",
    "            k_selected = [k for k in range(len(temp)) if distances[k] == temp[j]]\n",
    "            predicted.append(np.argmax(train_list_values[k_selected[0]]))\n",
    "        result = 0\n",
    "        count_index = list()\n",
    "        for j in range(k_value):\n",
    "            if predicted.count(predicted[j]) >= k_value/2 + 1:\n",
    "                result = j\n",
    "                break\n",
    "            count_index.append(predicted.count(predicted[j]))\n",
    "            if i == k_value-1:\n",
    "                result = count_index.index(max(count_index))\n",
    "        #최근접 이웃 클래스의 레이블을 확인한다. type(nn_index) = numpy.int64, 즉 nn_index는 요소값을 가르키는 인덱스\n",
    "        print \"Test N :\", i, \" Predicted Class:\", predicted[result], \\\n",
    "                \"True Class:\", np.argmax(test_list_of_values[i])\n",
    "        if predicted[result]== np.argmax(test_list_of_values[i]):\n",
    "            accuracy += 1./len(test_pixels) # ++ 1/테스트 데이터 수\n",
    "            \n",
    "    print \"Result = \", accuracy"
   ]
  },
  {
   "cell_type": "code",
   "execution_count": null,
   "metadata": {
    "collapsed": true
   },
   "outputs": [],
   "source": []
  }
 ],
 "metadata": {
  "kernelspec": {
   "display_name": "Python [conda env:tensorflow]",
   "language": "python",
   "name": "conda-env-tensorflow-py"
  },
  "language_info": {
   "codemirror_mode": {
    "name": "ipython",
    "version": 2
   },
   "file_extension": ".py",
   "mimetype": "text/x-python",
   "name": "python",
   "nbconvert_exporter": "python",
   "pygments_lexer": "ipython2",
   "version": "2.7.12"
  }
 },
 "nbformat": 4,
 "nbformat_minor": 1
}
