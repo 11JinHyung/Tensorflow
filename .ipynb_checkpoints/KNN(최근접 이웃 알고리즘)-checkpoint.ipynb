{
 "cells": [
  {
   "cell_type": "markdown",
   "metadata": {},
   "source": [
    "# KNN"
   ]
  },
  {
   "cell_type": "code",
   "execution_count": 1,
   "metadata": {
    "collapsed": true
   },
   "outputs": [],
   "source": [
    "import numpy as np\n",
    "import tensorflow as tf\n",
    "import input_data"
   ]
  },
  {
   "cell_type": "code",
   "execution_count": 2,
   "metadata": {
    "collapsed": false
   },
   "outputs": [
    {
     "name": "stdout",
     "output_type": "stream",
     "text": [
      "Extracting /tmp/data/train-images-idx3-ubyte.gz\n",
      "Extracting /tmp/data/train-labels-idx1-ubyte.gz\n",
      "Extracting /tmp/data/t10k-images-idx3-ubyte.gz\n",
      "Extracting /tmp/data/t10k-labels-idx1-ubyte.gz\n",
      "[ 0.  0.  0.  0.  0.  0.  0.  1.  0.  0.]\n"
     ]
    }
   ],
   "source": [
    "mnist = input_data.read_data_sets(\"/tmp/data/\", one_hot = True)\n",
    "train_pixels, train_list_values = mnist.train.next_batch(100)\n",
    "test_pixels, test_list_of_values = mnist.test.next_batch(10)\n",
    "train_pixel_tensor = tf.placeholder\\\n",
    "                    (\"float\", [None, 784])\n",
    "test_pixel_tensor = tf.placeholder\\\n",
    "                    (\"float\", [784])\n",
    "    \n",
    "print test_list_of_values[0]"
   ]
  },
  {
   "cell_type": "markdown",
   "metadata": {},
   "source": [
    "# tf.reduce_sum()에 대하여..."
   ]
  },
  {
   "cell_type": "code",
   "execution_count": 3,
   "metadata": {
    "collapsed": false
   },
   "outputs": [
    {
     "name": "stdout",
     "output_type": "stream",
     "text": [
      "6\n"
     ]
    }
   ],
   "source": [
    "x = tf.constant([[1,1,1],[1,1,1]], name = 'x')\n",
    "result = tf.reduce_sum(x)\n",
    "model = tf.global_variables_initializer()\n",
    "\n",
    "with tf.Session() as session:\n",
    "    session.run(model)\n",
    "    print(session.run(result))"
   ]
  },
  {
   "cell_type": "code",
   "execution_count": 4,
   "metadata": {
    "collapsed": false
   },
   "outputs": [
    {
     "name": "stdout",
     "output_type": "stream",
     "text": [
      "[2 2 2]\n"
     ]
    }
   ],
   "source": [
    "x = tf.constant([[1,1,1],[1,1,1]], name = 'x')\n",
    "result = tf.reduce_sum(x, reduction_indices = 0)\n",
    "model = tf.global_variables_initializer()\n",
    "\n",
    "with tf.Session() as session:\n",
    "    session.run(model)\n",
    "    print(session.run(result))"
   ]
  },
  {
   "cell_type": "code",
   "execution_count": 5,
   "metadata": {
    "collapsed": false
   },
   "outputs": [
    {
     "name": "stdout",
     "output_type": "stream",
     "text": [
      "[3 3]\n"
     ]
    }
   ],
   "source": [
    "x = tf.constant([[1,1,1],[1,1,1]], name = 'x')\n",
    "result = tf.reduce_sum(x, reduction_indices = 1)\n",
    "model = tf.global_variables_initializer()\n",
    "\n",
    "with tf.Session() as session:\n",
    "    session.run(model)\n",
    "    print(session.run(result))"
   ]
  },
  {
   "cell_type": "markdown",
   "metadata": {},
   "source": [
    "# 다시 main으로"
   ]
  },
  {
   "cell_type": "code",
   "execution_count": 6,
   "metadata": {
    "collapsed": false
   },
   "outputs": [],
   "source": [
    "#비용함수와 거리 최적화\n",
    "#neg함수는 인자값을 음수로 만들어 차원별(?요소별)로 더한다.\n",
    "#구한 거리에서 차원별(요소별)로 가장 작은 거리를 찾는다. = tf.arg_min()\n",
    "distance = tf.reduce_sum(tf.abs(tf.add(train_pixel_tensor, tf.neg(test_pixel_tensor))), reduction_indices = 1)\n",
    "pred = tf.arg_min(distance, 0) #return 값은 --> 요소값 인덱스"
   ]
  },
  {
   "cell_type": "code",
   "execution_count": 7,
   "metadata": {
    "collapsed": false
   },
   "outputs": [
    {
     "name": "stdout",
     "output_type": "stream",
     "text": [
      "Test N : 0  Predicted Class: 7 True Class: 7\n",
      "Test N : 1  Predicted Class: 2 True Class: 2\n",
      "Test N : 2  Predicted Class: 1 True Class: 1\n",
      "Test N : 3  Predicted Class: 0 True Class: 0\n",
      "Test N : 4  Predicted Class: 4 True Class: 4\n",
      "Test N : 5  Predicted Class: 1 True Class: 1\n",
      "Test N : 6  Predicted Class: 4 True Class: 4\n",
      "Test N : 7  Predicted Class: 9 True Class: 9\n",
      "Test N : 8  Predicted Class: 6 True Class: 5\n",
      "Test N : 9  Predicted Class: 9 True Class: 9\n",
      "Result =  0.9\n"
     ]
    }
   ],
   "source": [
    "#테스트와 알고리즘 평가\n",
    "accuracy = 0. #최종결과계산\n",
    "init = tf.global_variables_initializer()\n",
    "with tf.Session() as sess:\n",
    "    sess.run(init)\n",
    "    for i in range(len(test_list_of_values)): #10개의 테스트 값\n",
    "        #전체 학습데이터와 i번째 테스트데이터를 비교하는 것을 앞서 만든 pred함수를 통해 진행한다.\n",
    "        nn_index = sess.run(pred,feed_dict={train_pixel_tensor:train_pixels, test_pixel_tensor:test_pixels[i,:]})\n",
    "        \n",
    "        #최근접 이웃 클래스의 레이블을 확인한다. type(nn_index) = numpy.int64, 즉 nn_index는 요소값을 가르키는 인덱스\n",
    "        print \"Test N :\", i, \" Predicted Class:\", np.argmax(train_list_values[nn_index]), \\\n",
    "                \"True Class:\", np.argmax(test_list_of_values[i])\n",
    "        if np.argmax(train_list_values[nn_index])== np.argmax(test_list_of_values[i]):\n",
    "            accuracy += 1./len(test_pixels) # ++ 1/테스트 데이터 수\n",
    "            \n",
    "    print \"Result = \", accuracy"
   ]
  },
  {
   "cell_type": "code",
   "execution_count": null,
   "metadata": {
    "collapsed": true
   },
   "outputs": [],
   "source": []
  },
  {
   "cell_type": "code",
   "execution_count": null,
   "metadata": {
    "collapsed": true
   },
   "outputs": [],
   "source": []
  }
 ],
 "metadata": {
  "kernelspec": {
   "display_name": "Python [conda env:tensorflow]",
   "language": "python",
   "name": "conda-env-tensorflow-py"
  },
  "language_info": {
   "codemirror_mode": {
    "name": "ipython",
    "version": 2
   },
   "file_extension": ".py",
   "mimetype": "text/x-python",
   "name": "python",
   "nbconvert_exporter": "python",
   "pygments_lexer": "ipython2",
   "version": "2.7.12"
  }
 },
 "nbformat": 4,
 "nbformat_minor": 1
}
